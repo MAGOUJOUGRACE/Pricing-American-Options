{
  "cells": [
    {
      "cell_type": "markdown",
      "metadata": {
        "id": "view-in-github",
        "colab_type": "text"
      },
      "source": [
        "<a href=\"https://colab.research.google.com/github/MAGOUJOUGRACE/public/blob/master/Pricing_American_Options.ipynb\" target=\"_parent\"><img src=\"https://colab.research.google.com/assets/colab-badge.svg\" alt=\"Open In Colab\"/></a>"
      ]
    },
    {
      "cell_type": "markdown",
      "source": [
        "##  Pricing Bermudan put option using Monte Carlo simulation and the Longstaff-Schwartz algorithm\n",
        "\n",
        "### Conditional expectation approach by regression\n",
        "\n",
        "The code below is used to price a Bermudan put option using Monte Carlo simulation and the Longstaff-Schwartz algorithm.\n",
        "The input parameters for the function **Bermudean_Put_MC_LS()** are:\n",
        "\n",
        "*   the risk-free rate **r**,\n",
        "*   the initial stock price **S0**,\n",
        "*   the volatility **sigma**,\n",
        "*   the time to maturity **T**,\n",
        "*   the strike price **K**,\n",
        "*   the number of Monte Carlo scenarios **N**,\n",
        "*   the number of time steps **n**, and\n",
        "*   the basis size **basis_size**\n",
        "\n",
        "The function begins by generating a matrix of normal random variables using **npr.normal()** function from NumPy. These random variables are used to generate log returns for the stock price, which is then transformed into stock price paths using the Black-Scholes model.\n",
        "\n",
        "The **Longstaff-Schwartz algorithm** is then applied to these stock price paths to calculate the optimal exercise time for each path. This is done by iterating backwards through the time steps, starting from the maturity date and working backwards. For each time step, a regression is performed to estimate the continuation value of the option. If the intrinsic value (the difference between the strike price and the stock price) is greater than the continuation value, the option is exercised; otherwise, it is not.\n",
        "\n",
        "The function returns the Bermudan put price, the upper and lower bounds of the 95% confidence interval, the error, and the exercise time for the optimal exercise strategy. The exercise time is plotted on a graph using Matplotlib's plt.plot() function."
      ],
      "metadata": {
        "id": "e0_YalldIUoP"
      },
      "id": "e0_YalldIUoP"
    },
    {
      "cell_type": "code",
      "execution_count": null,
      "metadata": {
        "id": "_QNxG0gXdcwB"
      },
      "outputs": [],
      "source": [
        "import numpy as np   # math operations\n",
        "import numpy.random as npr # random\n",
        "import matplotlib.pyplot as plt # plot\n",
        "import time\n",
        "from scipy import linalg\n"
      ],
      "id": "_QNxG0gXdcwB"
    },
    {
      "cell_type": "code",
      "execution_count": null,
      "metadata": {
        "id": "I4-t4B6BdcwN",
        "outputId": "e0747fe0-dfcb-4983-c3a9-eae5ac0ca164",
        "colab": {
          "base_uri": "https://localhost:8080/",
          "height": 503
        }
      },
      "outputs": [
        {
          "output_type": "stream",
          "name": "stdout",
          "text": [
            "[2.311034595943795, 2.3279965107290086, 2.2940726811585814, 0.016961914785213597]\n",
            "[49.68668, 49.38508, 49.0779, 48.78959, 48.50291, 48.20182, 47.91924, 47.66167, 47.36267, 47.09598, 46.83123, 46.58392, 46.3474, 46.08676, 45.85825, 45.62973, 45.37807, 45.18149, 44.91032, 44.70007, 44.48949, 44.29886, 44.05459, 43.8145, 43.63649, 43.42554, 43.25169, 43.03637, 42.82952, 42.67224, 42.50876, 42.32686, 42.21468, 42.03038, 41.88373, 41.71348, 41.56463, 41.41974, 41.26173, 41.17262, 41.13637, 41.08897, 41.06434, 41.01028, 40.96254, 40.93236, 40.92032, 40.92032, 40.92032, 40.92032]\n"
          ]
        },
        {
          "output_type": "execute_result",
          "data": {
            "text/plain": [
              "[<matplotlib.lines.Line2D at 0x7f6360aad600>]"
            ]
          },
          "metadata": {},
          "execution_count": 3
        },
        {
          "output_type": "display_data",
          "data": {
            "text/plain": [
              "<Figure size 640x480 with 1 Axes>"
            ],
            "image/png": "[encoded data removed]"
          },
          "metadata": {}
        }
      ],
      "source": [
        "def Bermudean_Put_MC_LS(r,S0,sigma,T,K,N,n, basis_size):\n",
        "\n",
        "    dt=float(T/n)\n",
        "\n",
        "    G=npr.normal(0,1,size=(N,n))\n",
        "\n",
        "    #Log returns\n",
        "    LR=(r-0.5*sigma**2)*dt+np.sqrt(dt)*sigma*G\n",
        "    # concatenate with log(S0)\n",
        "    LR=np.concatenate((np.log(S0)*np.ones((N,1)),LR),axis=1)\n",
        "    # cumsum horizontally (axis=1)\n",
        "    LR=np.cumsum(LR,axis=1)\n",
        "    # take the expo Spath matrix\n",
        "    Spaths=np.exp(LR)\n",
        "    #print(Spaths)\n",
        "\n",
        "    # Longstaff & Schwartz\n",
        "\n",
        "    #discount rates over different time intervals\n",
        "\n",
        "    discountVect = np.exp(-r*dt*np.arange(1, n+1, 1))\n",
        "\n",
        "\n",
        "    #generate sample paths\n",
        "\n",
        "\n",
        "\n",
        "    CashFlows = np.maximum(0, K-Spaths[:,- 1]) # all scenarios of the payoff max(K-ST,0) at maturity\n",
        "\n",
        "\n",
        "    # N : MONTE CARLO SCENARIOS\n",
        "    ExerciseTime = n* np.ones(N)\n",
        "    ExerciseTime = ExerciseTime.astype('int')\n",
        "\n",
        "    Tau=[] # Continuation value average\n",
        "\n",
        "    for step in range(n-1, -1, -1): #backward for loop\n",
        "\n",
        "        Time_to_maturity=n* np.ones(N)-step\n",
        "\n",
        "        index_in_money = np.argwhere(Spaths[:, step] < K)\n",
        "\n",
        "        X = Spaths[index_in_money, step]  # X= S_{t_k} t_k is the step where I am in the for loop\n",
        "\n",
        "        #np.ones((X.shape[0],1))\n",
        "        Reg_list=[]\n",
        "\n",
        "        for degree in range(basis_size):\n",
        "            Reg_list.append(X**degree)\n",
        "\n",
        "        RegrMat = np.array(Reg_list) #(1, Stk, Stk^2, Stk^3, Stk^4) basis of size 5\n",
        "\n",
        "        YData = CashFlows[index_in_money]*discountVect[ExerciseTime[index_in_money] - step-1]\n",
        "\n",
        "\n",
        "        a = linalg.lstsq(np.squeeze(RegrMat.T),YData)[0] # finding the regressors\n",
        "        IntrinsicValue =  K-X;\n",
        "        ContinuationValue = np.dot(np.squeeze(RegrMat.T), a) #approximation for the conditional expectation\n",
        "\n",
        "\n",
        "\n",
        "        index_Exercise=np.argwhere(IntrinsicValue  > ContinuationValue)\n",
        "\n",
        "        k = index_in_money[index_Exercise]\n",
        "\n",
        "        CashFlows[k] = IntrinsicValue[index_Exercise];\n",
        "        ExerciseTime[k] = step\n",
        "        Tau.append(np.mean(ExerciseTime))\n",
        "\n",
        "\n",
        "    payoff= CashFlows*discountVect[ExerciseTime-1]\n",
        "    Bermudean_MC_price=np.mean(payoff)\n",
        "\n",
        "    # 95% C.I\n",
        "\n",
        "    STD=np.std(payoff) # standard deviation estimator\n",
        "\n",
        "    error=1.96*STD/np.sqrt(N)\n",
        "\n",
        "    CI_up=Bermudean_MC_price + error\n",
        "    CI_down=Bermudean_MC_price -error\n",
        "\n",
        "    return Bermudean_MC_price,CI_up,CI_down,error,Tau\n",
        "\n",
        "start_time_ls = time.time()\n",
        "\n",
        "[Bermudean_MC_price,CI_up,CI_down,error,Tau]=Bermudean_Put_MC_LS(0.06,40,0.2,1,40,100000,50,5)\n",
        "\n",
        "end_time_ls = time.time()\n",
        "\n",
        "\n",
        "\n",
        "\n",
        "print([Bermudean_MC_price,CI_up,CI_down,error])\n",
        "\n",
        "# Frontier exercice\n",
        "print(Tau)\n",
        "\n",
        "plt.plot(Tau[::-1])\n",
        "\n"
      ],
      "id": "I4-t4B6BdcwN"
    },
    {
      "cell_type": "markdown",
      "source": [
        "### Approach using a deep neural network\n",
        "\n",
        "For the approach using a deep neural network to approximate the conditional expectation, we will follow these steps\n",
        "\n",
        "**Step 1:**  We would need to generate the sample paths of the underlying asset using the same process as in the **Longstaff-Schwartz algorithm**. This would involve simulating a large number of scenarios using the **Black-Scholes model** with **Monte Carlo simulations**.\n",
        "\n",
        "**Step 2:** Calculating of the payoff for each scenario at each exercise time.\n",
        "\n",
        "**Step 3:** Implementing of  a deep neural network that takes in the current stock price and the time remaining until the next exercise time as inputs, and outputs an estimate of the expected payoff at the next exercise time. we would train the network using the payoff values from step 2 as the target variable.\n",
        "\n",
        "**Step 4:** At each exercise time, evaluating the neural network on the in-the-money scenarios and comparing the estimated payoff to the intrinsic payoff. If the intrinsic payoff is greater, the option would be exercised, and the corresponding cash flows would be updated. If not, the option would continue to be held.\n",
        "\n",
        "**Step 5:** you would discount the resulting cash flows back to the present to obtain the Bermudean put option price."
      ],
      "metadata": {
        "id": "9Xs5DWwLIjee"
      },
      "id": "9Xs5DWwLIjee"
    },
    {
      "cell_type": "markdown",
      "source": [
        "#### Import libraries\n",
        "\n",
        "\n"
      ],
      "metadata": {
        "id": "PQ2X4huDGDec"
      },
      "id": "PQ2X4huDGDec"
    },
    {
      "cell_type": "code",
      "source": [
        "import tensorflow as tf\n",
        "from tensorflow.keras.models import Sequential\n",
        "from tensorflow.keras.layers import Input, Dense, BatchNormalization, Dropout, ReLU, Activation, Flatten\n",
        "from keras.constraints import non_neg\n",
        "from keras.callbacks import EarlyStopping"
      ],
      "metadata": {
        "id": "hl4abZc5CF8w"
      },
      "id": "hl4abZc5CF8w",
      "execution_count": null,
      "outputs": []
    },
    {
      "cell_type": "markdown",
      "source": [
        "#### Set the parameters and initialize variables:"
      ],
      "metadata": {
        "id": "MoAm1TbjCUA2"
      },
      "id": "MoAm1TbjCUA2"
    },
    {
      "cell_type": "code",
      "source": [
        "S0=40  # Initial asset price\n",
        "sigma = 0.2  # Volatility\n",
        "r=0.06  # Risk-free interest rate\n",
        "T = 1  # Time to expiration\n",
        "K=40  # Strike price\n",
        "N = 100000  # Number of Monte Carlo paths\n",
        "n = 50 # Number of time steps\n",
        "input_dim = n  # Number of input features\n",
        "n_nn = 100000 # for the data of the neural network"
      ],
      "metadata": {
        "id": "xcv2lEufCZq0"
      },
      "id": "xcv2lEufCZq0",
      "execution_count": null,
      "outputs": []
    },
    {
      "cell_type": "markdown",
      "source": [
        "#### Generate the Monte Carlo paths under the Black-Scholes model\n",
        "\n",
        "\n"
      ],
      "metadata": {
        "id": "rhVNue7sCdpB"
      },
      "id": "rhVNue7sCdpB"
    },
    {
      "cell_type": "code",
      "source": [
        "def BS_model_path(S0,r,sigma,T,n):\n",
        "\n",
        "    # S0 spot price\n",
        "    # r instantenous interest rate\n",
        "    # sigma volatility\n",
        "    # T maturity\n",
        "    # n number of time steps\n",
        "    dt=T/n # time step\n",
        "    Log_returns=(r-sigma**2/2)*dt + sigma*np.sqrt(dt)*npr.normal(0,1,size=(n,1))# brownian increments\n",
        "    Log_path=np.cumsum(np.concatenate((np.log(S0)*np.ones((1,1)),Log_returns)))  # concatenate with S0\n",
        "    S= np.exp(Log_path)\n",
        "    t=np.linspace(0,T,n+1)\n",
        "\n",
        "    return t,S"
      ],
      "metadata": {
        "id": "NYt4lnNQfjQw"
      },
      "id": "NYt4lnNQfjQw",
      "execution_count": null,
      "outputs": []
    },
    {
      "cell_type": "markdown",
      "source": [
        "#### compute a deep neural network to approximate the conditional expectation appearing in the continuation condition:\n",
        "\n",
        "Here we want to approximate $$ \\mathbb{E}^*[\\exp(-rx)(K-y)_+|y]$$ using neural network.\n",
        "\n",
        "Where x represente the time step size between two dates and y the path."
      ],
      "metadata": {
        "id": "gWwt6JCtDBFx"
      },
      "id": "gWwt6JCtDBFx"
    },
    {
      "cell_type": "code",
      "source": [
        "start_time_nn = time.time()\n",
        "model = Sequential()\n",
        "model.add(Input(shape=(1,)))\n",
        "model.add(Dense(32,  activation='relu'))\n",
        "model.add(Dense(16,  activation='relu'))\n",
        "model.add(Dense(1 ,activation='relu', kernel_constraint=non_neg()))\n",
        "callbacks = EarlyStopping(monitor='val_loss',patience=15)\n",
        "model.compile(loss='mse',optimizer=tf.optimizers.Adam(learning_rate=0.001))\n",
        "\n",
        "# Generate training data\n",
        "X_train = np.random.uniform(0.01, 1, n_nn+1)\n",
        "Y_train = BS_model_path(S0,r,sigma,T,n_nn)[1]\n",
        "\n",
        "\n",
        "history = model.fit(Y_train, np.exp(-r*X_train)*np.maximum(0,K-Y_train), batch_size=64, epochs=100, callbacks=[callbacks], validation_split=0.2, verbose=2)"
      ],
      "metadata": {
        "colab": {
          "base_uri": "https://localhost:8080/"
        },
        "id": "YjVl_uT-Pk5p",
        "outputId": "8403f181-9063-43ca-dfc6-baac40cbb4b7"
      },
      "id": "YjVl_uT-Pk5p",
      "execution_count": null,
      "outputs": [
        {
          "output_type": "stream",
          "name": "stdout",
          "text": [
            "Epoch 1/100\n",
            "1250/1250 - 4s - loss: 4.3696 - val_loss: 5.9676 - 4s/epoch - 3ms/step\n",
            "Epoch 2/100\n",
            "1250/1250 - 2s - loss: 3.2979 - val_loss: 0.6396 - 2s/epoch - 2ms/step\n",
            "Epoch 3/100\n",
            "1250/1250 - 3s - loss: 0.8530 - val_loss: 0.1811 - 3s/epoch - 2ms/step\n",
            "Epoch 4/100\n",
            "1250/1250 - 4s - loss: 0.0643 - val_loss: 0.0039 - 4s/epoch - 3ms/step\n",
            "Epoch 5/100\n",
            "1250/1250 - 4s - loss: 0.0039 - val_loss: 2.5618e-06 - 4s/epoch - 3ms/step\n",
            "Epoch 6/100\n",
            "1250/1250 - 5s - loss: 0.0045 - val_loss: 2.3629e-08 - 5s/epoch - 4ms/step\n",
            "Epoch 7/100\n",
            "1250/1250 - 5s - loss: 0.0048 - val_loss: 9.7790e-07 - 5s/epoch - 4ms/step\n",
            "Epoch 8/100\n",
            "1250/1250 - 3s - loss: 0.0046 - val_loss: 4.9868e-07 - 3s/epoch - 2ms/step\n",
            "Epoch 9/100\n",
            "1250/1250 - 2s - loss: 0.0045 - val_loss: 1.7002e-06 - 2s/epoch - 2ms/step\n",
            "Epoch 10/100\n",
            "1250/1250 - 2s - loss: 0.0044 - val_loss: 3.1793e-07 - 2s/epoch - 2ms/step\n",
            "Epoch 11/100\n",
            "1250/1250 - 3s - loss: 0.0048 - val_loss: 2.4093e-07 - 3s/epoch - 2ms/step\n",
            "Epoch 12/100\n",
            "1250/1250 - 3s - loss: 0.0049 - val_loss: 3.0521e-08 - 3s/epoch - 3ms/step\n",
            "Epoch 13/100\n",
            "1250/1250 - 3s - loss: 0.0046 - val_loss: 2.4314e-07 - 3s/epoch - 3ms/step\n",
            "Epoch 14/100\n",
            "1250/1250 - 2s - loss: 0.0047 - val_loss: 7.6163e-08 - 2s/epoch - 2ms/step\n",
            "Epoch 15/100\n",
            "1250/1250 - 2s - loss: 0.0048 - val_loss: 9.0375e-08 - 2s/epoch - 2ms/step\n",
            "Epoch 16/100\n",
            "1250/1250 - 5s - loss: 0.0042 - val_loss: 3.2298e-08 - 5s/epoch - 4ms/step\n",
            "Epoch 17/100\n",
            "1250/1250 - 3s - loss: 0.0050 - val_loss: 5.5369e-08 - 3s/epoch - 2ms/step\n",
            "Epoch 18/100\n",
            "1250/1250 - 3s - loss: 0.0047 - val_loss: 6.9446e-08 - 3s/epoch - 2ms/step\n",
            "Epoch 19/100\n",
            "1250/1250 - 3s - loss: 0.0048 - val_loss: 1.5001e-08 - 3s/epoch - 2ms/step\n",
            "Epoch 20/100\n",
            "1250/1250 - 3s - loss: 0.0046 - val_loss: 6.1671e-10 - 3s/epoch - 3ms/step\n",
            "Epoch 21/100\n",
            "1250/1250 - 3s - loss: 0.0047 - val_loss: 2.6731e-08 - 3s/epoch - 2ms/step\n",
            "Epoch 22/100\n",
            "1250/1250 - 2s - loss: 0.0047 - val_loss: 8.0966e-08 - 2s/epoch - 2ms/step\n",
            "Epoch 23/100\n",
            "1250/1250 - 3s - loss: 0.0046 - val_loss: 3.2359e-07 - 3s/epoch - 2ms/step\n",
            "Epoch 24/100\n",
            "1250/1250 - 3s - loss: 0.0049 - val_loss: 3.6125e-08 - 3s/epoch - 2ms/step\n",
            "Epoch 25/100\n",
            "1250/1250 - 3s - loss: 0.0044 - val_loss: 8.1245e-08 - 3s/epoch - 3ms/step\n",
            "Epoch 26/100\n",
            "1250/1250 - 2s - loss: 0.0047 - val_loss: 1.1803e-07 - 2s/epoch - 2ms/step\n",
            "Epoch 27/100\n",
            "1250/1250 - 2s - loss: 0.0044 - val_loss: 6.6517e-08 - 2s/epoch - 2ms/step\n",
            "Epoch 28/100\n",
            "1250/1250 - 2s - loss: 0.0044 - val_loss: 1.8225e-08 - 2s/epoch - 2ms/step\n",
            "Epoch 29/100\n",
            "1250/1250 - 3s - loss: 0.0049 - val_loss: 2.4761e-09 - 3s/epoch - 3ms/step\n",
            "Epoch 30/100\n",
            "1250/1250 - 3s - loss: 0.0043 - val_loss: 8.2340e-08 - 3s/epoch - 2ms/step\n",
            "Epoch 31/100\n",
            "1250/1250 - 2s - loss: 0.0044 - val_loss: 1.0383e-08 - 2s/epoch - 2ms/step\n",
            "Epoch 32/100\n",
            "1250/1250 - 2s - loss: 0.0046 - val_loss: 4.0388e-08 - 2s/epoch - 2ms/step\n",
            "Epoch 33/100\n",
            "1250/1250 - 2s - loss: 0.0047 - val_loss: 6.7680e-09 - 2s/epoch - 2ms/step\n",
            "Epoch 34/100\n",
            "1250/1250 - 3s - loss: 0.0044 - val_loss: 7.7580e-08 - 3s/epoch - 2ms/step\n",
            "Epoch 35/100\n",
            "1250/1250 - 3s - loss: 0.0045 - val_loss: 2.3790e-08 - 3s/epoch - 2ms/step\n"
          ]
        }
      ]
    },
    {
      "cell_type": "code",
      "source": [
        "plt.plot(history.history['loss'])\n",
        "plt.plot(history.history['val_loss'])\n",
        "plt.title('Model Loss')\n",
        "plt.ylabel('Loss')\n",
        "plt.xlabel('Epoch')\n",
        "plt.legend(['train','validation'],loc= 'upper left')\n",
        "plt.show()"
      ],
      "metadata": {
        "colab": {
          "base_uri": "https://localhost:8080/",
          "height": 472
        },
        "id": "tWVeHWP4ehYh",
        "outputId": "3cabdf7b-6b7e-4414-ff47-6dc81dd8881b"
      },
      "id": "tWVeHWP4ehYh",
      "execution_count": null,
      "outputs": [
        {
          "output_type": "display_data",
          "data": {
            "text/plain": [
              "<Figure size 640x480 with 1 Axes>"
            ],
            "image/png": "[encoded data removed]"
          },
          "metadata": {}
        }
      ]
    },
    {
      "cell_type": "markdown",
      "source": [
        "#### Perform the backward induction step of the Longstaff-Schwarz algorithm with a deep neural network."
      ],
      "metadata": {
        "id": "N9Iaq70LDUFJ"
      },
      "id": "N9Iaq70LDUFJ"
    },
    {
      "cell_type": "code",
      "source": [
        "def backward(N,n,Spaths,K, model):\n",
        "  CashFlows = np.maximum(0, K-Spaths[:,- 1]) # all scenarios of the payoff max(K-ST,0) at maturity\n",
        "    # N : MONTE CARLO SCENARIOS\n",
        "  ExerciseTime = n* np.ones(N)\n",
        "  ExerciseTime = ExerciseTime.astype('int')\n",
        "\n",
        "  Tau=[] # Continuation value average\n",
        "  for step in range(n-1, 0, -1):#backward for loop\n",
        "    Time_to_maturity= n* np.ones(N)-step\n",
        "    index_in_money = np.argwhere(Spaths[:, step] < K)\n",
        "    X = Spaths[index_in_money, step]  # X= S_{t_k} t_k is the step where I am in the for loop\n",
        "    IntrinsicValue =  K-X\n",
        "    ContinuationValue = model.predict(X)\n",
        "    index_Exercise=np.argwhere(IntrinsicValue  > ContinuationValue)\n",
        "    k = index_in_money[index_Exercise]\n",
        "    CashFlows[k] = IntrinsicValue[index_Exercise]\n",
        "    ExerciseTime[k] = step\n",
        "    Tau.append(np.mean(ExerciseTime))\n",
        "\n",
        "  return  CashFlows, ExerciseTime, Tau"
      ],
      "metadata": {
        "id": "UIKaSUZpDn_m"
      },
      "id": "UIKaSUZpDn_m",
      "execution_count": null,
      "outputs": []
    },
    {
      "cell_type": "code",
      "source": [
        "def calculate_option_price(ExerciseTime, N, n, CashFlows):\n",
        "  dt=float(T/n)\n",
        "  #discount rates over different time intervals\n",
        "  discountVect = np.exp(-r*dt*np.arange(1, n+1, 1))\n",
        "  payoff= CashFlows*discountVect[ExerciseTime-1]\n",
        "  Bermudean_MC_price=np.mean(payoff)\n",
        "\n",
        "    # 95% C.I\n",
        "\n",
        "  STD=np.std(payoff) # standard deviation estimator\n",
        "\n",
        "  error=1.96*STD/np.sqrt(N)\n",
        "\n",
        "  CI_up=Bermudean_MC_price + error\n",
        "  CI_down=Bermudean_MC_price - error\n",
        "\n",
        "  return Bermudean_MC_price,CI_up,CI_down,error"
      ],
      "metadata": {
        "id": "EHtmoqnrDuvb"
      },
      "id": "EHtmoqnrDuvb",
      "execution_count": null,
      "outputs": []
    },
    {
      "cell_type": "code",
      "source": [
        "#generate sample paths\n",
        "spaths = np.zeros((N,n+1))\n",
        "for i in range(N):\n",
        "  spaths[i,:] = BS_model_path(S0,r,sigma,T,n = n)[1]\n"
      ],
      "metadata": {
        "id": "9jyWdUuyD0QZ"
      },
      "id": "9jyWdUuyD0QZ",
      "execution_count": null,
      "outputs": []
    },
    {
      "cell_type": "code",
      "source": [
        "#start_time_nn = time.time()\n",
        "CashFlows, ExerciseTime, Tau = backward(N,n,spaths,K, model)\n",
        "Bermudean_MC_price,CI_up,CI_down,error = calculate_option_price(ExerciseTime, N, n, CashFlows)\n",
        "end_time_nn = time.time()"
      ],
      "metadata": {
        "colab": {
          "base_uri": "https://localhost:8080/"
        },
        "id": "JZr66zuKD1L3",
        "outputId": "fe75eee0-a168-4952-9caa-6222f13cea58"
      },
      "id": "JZr66zuKD1L3",
      "execution_count": null,
      "outputs": [
        {
          "output_type": "stream",
          "name": "stdout",
          "text": [
            "1318/1318 [==============================] - 3s 2ms/step\n",
            "1321/1321 [==============================] - 2s 1ms/step\n",
            "1322/1322 [==============================] - 2s 1ms/step\n",
            "1322/1322 [==============================] - 2s 1ms/step\n",
            "1323/1323 [==============================] - 2s 2ms/step\n",
            "1330/1330 [==============================] - 2s 1ms/step\n",
            "1331/1331 [==============================] - 2s 1ms/step\n",
            "1332/1332 [==============================] - 2s 1ms/step\n",
            "1337/1337 [==============================] - 2s 2ms/step\n",
            "1342/1342 [==============================] - 2s 2ms/step\n",
            "1345/1345 [==============================] - 2s 1ms/step\n",
            "1348/1348 [==============================] - 2s 1ms/step\n",
            "1351/1351 [==============================] - 2s 2ms/step\n",
            "1351/1351 [==============================] - 2s 1ms/step\n",
            "1357/1357 [==============================] - 2s 1ms/step\n",
            "1359/1359 [==============================] - 2s 1ms/step\n",
            "1363/1363 [==============================] - 2s 1ms/step\n",
            "1367/1367 [==============================] - 2s 1ms/step\n",
            "1369/1369 [==============================] - 2s 1ms/step\n",
            "1373/1373 [==============================] - 2s 1ms/step\n",
            "1378/1378 [==============================] - 2s 2ms/step\n",
            "1380/1380 [==============================] - 2s 1ms/step\n",
            "1385/1385 [==============================] - 2s 1ms/step\n",
            "1385/1385 [==============================] - 2s 1ms/step\n",
            "1393/1393 [==============================] - 3s 2ms/step\n",
            "1395/1395 [==============================] - 2s 1ms/step\n",
            "1398/1398 [==============================] - 2s 1ms/step\n",
            "1397/1397 [==============================] - 3s 2ms/step\n",
            "1399/1399 [==============================] - 2s 1ms/step\n",
            "1404/1404 [==============================] - 2s 1ms/step\n",
            "1408/1408 [==============================] - 2s 1ms/step\n",
            "1411/1411 [==============================] - 2s 1ms/step\n",
            "1417/1417 [==============================] - 2s 1ms/step\n",
            "1420/1420 [==============================] - 3s 2ms/step\n",
            "1427/1427 [==============================] - 2s 2ms/step\n",
            "1435/1435 [==============================] - 2s 1ms/step\n",
            "1433/1433 [==============================] - 2s 1ms/step\n",
            "1438/1438 [==============================] - 2s 1ms/step\n",
            "1442/1442 [==============================] - 2s 1ms/step\n",
            "1449/1449 [==============================] - 3s 2ms/step\n",
            "1455/1455 [==============================] - 2s 1ms/step\n",
            "1464/1464 [==============================] - 2s 1ms/step\n",
            "1471/1471 [==============================] - 3s 2ms/step\n",
            "1475/1475 [==============================] - 2s 1ms/step\n",
            "1479/1479 [==============================] - 2s 1ms/step\n",
            "1486/1486 [==============================] - 3s 2ms/step\n",
            "1499/1499 [==============================] - 2s 2ms/step\n",
            "1510/1510 [==============================] - 2s 2ms/step\n",
            "1530/1530 [==============================] - 2s 1ms/step\n"
          ]
        }
      ]
    },
    {
      "cell_type": "code",
      "source": [
        "print ([Bermudean_MC_price,CI_up,CI_down])"
      ],
      "metadata": {
        "colab": {
          "base_uri": "https://localhost:8080/"
        },
        "id": "BlexVjTYHScb",
        "outputId": "d873750b-537a-4bb1-9c2f-46047ef03c96"
      },
      "id": "BlexVjTYHScb",
      "execution_count": null,
      "outputs": [
        {
          "output_type": "stream",
          "name": "stdout",
          "text": [
            "[0.7083210860467994, 0.7122510200468397, 0.7043911520467592]\n"
          ]
        }
      ]
    },
    {
      "cell_type": "markdown",
      "source": [
        "### Compare its efficiency with the above Longstaff Schwarz algorithm."
      ],
      "metadata": {
        "id": "tsEAhBNuJJ3J"
      },
      "id": "tsEAhBNuJJ3J"
    },
    {
      "cell_type": "code",
      "source": [
        "computation_time_nn = end_time_nn - start_time_nn\n",
        "computation_time_ls = end_time_ls - start_time_ls"
      ],
      "metadata": {
        "id": "a5J3NuC2ZGXS"
      },
      "id": "a5J3NuC2ZGXS",
      "execution_count": null,
      "outputs": []
    },
    {
      "cell_type": "code",
      "source": [
        "print(\"Computation time (Longstaff-Schwarz):\", computation_time_ls, \"seconds\")\n",
        "print(\"Computation time (Neural Network):\", computation_time_nn, \"seconds\")"
      ],
      "metadata": {
        "colab": {
          "base_uri": "https://localhost:8080/"
        },
        "id": "fOmqoKQpZ4e4",
        "outputId": "b7f608ef-17db-4615-bcc4-6cabf54f58e5"
      },
      "id": "fOmqoKQpZ4e4",
      "execution_count": null,
      "outputs": [
        {
          "output_type": "stream",
          "name": "stdout",
          "text": [
            "Computation time (Longstaff-Schwarz): 5.055227041244507 seconds\n",
            "Computation time (Neural Network): 289.7653000354767 seconds\n"
          ]
        }
      ]
    },
    {
      "cell_type": "markdown",
      "source": [
        "It can be difficult to compare the effectiveness of the Longstaff-Schwarz algorithm with a deep neural network approximation since it depends on a number of variables, including the complexity of the option, the amount of time steps, the quantity of Monte Carlo routes, and the neural network's architecture.\n",
        "\n",
        "For pricing Bermudan options, the Longstaff-Schwarz algorithm has been extensively utilized and shown to be successful. It uses regression techniques to approximate the conditional expectation, which makes it versatile and efficient in terms of computing.\n",
        "\n",
        "A deep neural network, on the other hand, adds more complexity and computing overhead when used to estimate the conditional expectation. Iterations of the optimization process are necessary during the neural network training process, and these can be time-consuming, particularly for large datasets or sophisticated topologies.\n",
        "\n",
        "For pricing Bermudan options, the Longstaff-Schwarz algorithm typically performs more efficiently than a deep neural network. The approach is ideal for real-world applications because its computing cost is mostly determined by the quantity of time steps and Monte Carlo routes.\n",
        "\n",
        "It's important to keep in mind, nevertheless, that a deep neural network approximation might provide greater adaptability and precision in capturing complicated option payoffs and pricing dynamics. An alternative to the regression-based Longstaff-Schwarz algorithm may be a neural network if the choice has complex properties or displays non-linear behavior.\n",
        "\n",
        "The Longstaff-Schwarz algorithm or a neural network approximation should be chosen based on the problem's specific needs, such as  speed, processing resources, and the kind of the option being priced. To make an informed choice, it is advised to test both strategies and evaluate their effectiveness in your particular situation.\n",
        "\n",
        "\n",
        "\n",
        "\n",
        "\n"
      ],
      "metadata": {
        "id": "BnxbBlgxIHxT"
      },
      "id": "BnxbBlgxIHxT"
    }
  ],
  "metadata": {
    "kernelspec": {
      "display_name": "Python 3",
      "language": "python",
      "name": "python3"
    },
    "language_info": {
      "codemirror_mode": {
        "name": "ipython",
        "version": 3
      },
      "file_extension": ".py",
      "mimetype": "text/x-python",
      "name": "python",
      "nbconvert_exporter": "python",
      "pygments_lexer": "ipython3",
      "version": "3.8.5"
    },
    "colab": {
      "provenance": [],
      "toc_visible": true,
      "include_colab_link": true
    }
  },
  "nbformat": 4,
  "nbformat_minor": 5
}